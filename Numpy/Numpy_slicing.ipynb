{
 "cells": [
  {
   "cell_type": "code",
   "execution_count": 1,
   "id": "385adfbb",
   "metadata": {},
   "outputs": [],
   "source": [
    "import numpy as np"
   ]
  },
  {
   "cell_type": "code",
   "execution_count": 3,
   "id": "eb504c38",
   "metadata": {},
   "outputs": [],
   "source": [
    "arr = np.random.rand(5,5)"
   ]
  },
  {
   "cell_type": "code",
   "execution_count": 4,
   "id": "c69e49f3",
   "metadata": {},
   "outputs": [
    {
     "data": {
      "text/plain": [
       "array([[0.92192467, 0.49716166, 0.07818089, 0.88463776, 0.03960145],\n",
       "       [0.24894568, 0.09482388, 0.74799472, 0.07832192, 0.64590997],\n",
       "       [0.32868938, 0.25810547, 0.7924292 , 0.99667838, 0.39343031],\n",
       "       [0.06954712, 0.04242531, 0.94683672, 0.23924463, 0.63482575],\n",
       "       [0.16630097, 0.12228198, 0.96174206, 0.59430084, 0.85658226]])"
      ]
     },
     "execution_count": 4,
     "metadata": {},
     "output_type": "execute_result"
    }
   ],
   "source": [
    "arr"
   ]
  },
  {
   "cell_type": "code",
   "execution_count": 5,
   "id": "5628f492",
   "metadata": {},
   "outputs": [
    {
     "data": {
      "text/plain": [
       "(5, 5)"
      ]
     },
     "execution_count": 5,
     "metadata": {},
     "output_type": "execute_result"
    }
   ],
   "source": [
    "arr.shape"
   ]
  },
  {
   "cell_type": "code",
   "execution_count": 6,
   "id": "5129ac57",
   "metadata": {},
   "outputs": [
    {
     "data": {
      "text/plain": [
       "dtype('float64')"
      ]
     },
     "execution_count": 6,
     "metadata": {},
     "output_type": "execute_result"
    }
   ],
   "source": [
    "arr.dtype"
   ]
  },
  {
   "cell_type": "code",
   "execution_count": 7,
   "id": "cff6e9c5",
   "metadata": {},
   "outputs": [
    {
     "data": {
      "text/plain": [
       "array([[0.92192467, 0.49716166, 0.07818089, 0.88463776, 0.03960145],\n",
       "       [0.24894568, 0.09482388, 0.74799472, 0.07832192, 0.64590997],\n",
       "       [0.32868938, 0.25810547, 0.7924292 , 0.99667838, 0.39343031],\n",
       "       [0.06954712, 0.04242531, 0.94683672, 0.23924463, 0.63482575]])"
      ]
     },
     "execution_count": 7,
     "metadata": {},
     "output_type": "execute_result"
    }
   ],
   "source": [
    "arr[:4]"
   ]
  },
  {
   "cell_type": "code",
   "execution_count": 8,
   "id": "08a66415",
   "metadata": {},
   "outputs": [
    {
     "data": {
      "text/plain": [
       "(4, 5)"
      ]
     },
     "execution_count": 8,
     "metadata": {},
     "output_type": "execute_result"
    }
   ],
   "source": [
    "arr[:4].shape"
   ]
  },
  {
   "cell_type": "code",
   "execution_count": 9,
   "id": "b6a2bf13",
   "metadata": {},
   "outputs": [
    {
     "data": {
      "text/plain": [
       "0.09482388060344171"
      ]
     },
     "execution_count": 9,
     "metadata": {},
     "output_type": "execute_result"
    }
   ],
   "source": [
    "arr[1,1]"
   ]
  },
  {
   "cell_type": "code",
   "execution_count": 10,
   "id": "14172a5a",
   "metadata": {},
   "outputs": [
    {
     "data": {
      "text/plain": [
       "array([[0.92192467, 0.49716166, 0.07818089, 0.88463776, 0.03960145],\n",
       "       [0.24894568, 0.09482388, 0.74799472, 0.07832192, 0.64590997],\n",
       "       [0.32868938, 0.25810547, 0.7924292 , 0.99667838, 0.39343031],\n",
       "       [0.06954712, 0.04242531, 0.94683672, 0.23924463, 0.63482575]])"
      ]
     },
     "execution_count": 10,
     "metadata": {},
     "output_type": "execute_result"
    }
   ],
   "source": [
    "arr[:-1]"
   ]
  },
  {
   "cell_type": "code",
   "execution_count": 11,
   "id": "6d878764",
   "metadata": {},
   "outputs": [],
   "source": [
    "int_arr = np.random.randint(5, size = (6,8))"
   ]
  },
  {
   "cell_type": "code",
   "execution_count": 12,
   "id": "add9e946",
   "metadata": {},
   "outputs": [
    {
     "data": {
      "text/plain": [
       "array([[4, 4, 4, 0, 1, 3, 0, 0],\n",
       "       [2, 1, 0, 1, 4, 4, 0, 0],\n",
       "       [1, 0, 4, 3, 2, 4, 0, 3],\n",
       "       [0, 3, 0, 1, 3, 2, 3, 2],\n",
       "       [1, 4, 1, 3, 3, 2, 2, 4],\n",
       "       [1, 1, 0, 1, 3, 0, 4, 1]])"
      ]
     },
     "execution_count": 12,
     "metadata": {},
     "output_type": "execute_result"
    }
   ],
   "source": [
    "int_arr"
   ]
  },
  {
   "cell_type": "code",
   "execution_count": 13,
   "id": "12be81ce",
   "metadata": {},
   "outputs": [],
   "source": [
    "int_arr_0 = int_arr[0]"
   ]
  },
  {
   "cell_type": "code",
   "execution_count": 14,
   "id": "4afd8f6e",
   "metadata": {},
   "outputs": [
    {
     "data": {
      "text/plain": [
       "array([4, 4, 4, 0, 1, 3, 0, 0])"
      ]
     },
     "execution_count": 14,
     "metadata": {},
     "output_type": "execute_result"
    }
   ],
   "source": [
    "int_arr_0"
   ]
  },
  {
   "cell_type": "code",
   "execution_count": 15,
   "id": "14691e22",
   "metadata": {},
   "outputs": [
    {
     "data": {
      "text/plain": [
       "array([False, False, False,  True, False, False,  True,  True])"
      ]
     },
     "execution_count": 15,
     "metadata": {},
     "output_type": "execute_result"
    }
   ],
   "source": [
    "int_arr_0 == 0"
   ]
  },
  {
   "cell_type": "code",
   "execution_count": 16,
   "id": "cd011140",
   "metadata": {},
   "outputs": [],
   "source": [
    "int_arr_0_is_012 = (int_arr_0 == 0) | (int_arr_0 == 1) | (int_arr_0 == 2)"
   ]
  },
  {
   "cell_type": "code",
   "execution_count": 17,
   "id": "a357564f",
   "metadata": {},
   "outputs": [
    {
     "data": {
      "text/plain": [
       "array([False, False, False,  True,  True, False,  True,  True])"
      ]
     },
     "execution_count": 17,
     "metadata": {},
     "output_type": "execute_result"
    }
   ],
   "source": [
    "int_arr_0_is_012"
   ]
  },
  {
   "cell_type": "code",
   "execution_count": 18,
   "id": "614334fa",
   "metadata": {},
   "outputs": [
    {
     "data": {
      "text/plain": [
       "array([0, 1, 0, 0])"
      ]
     },
     "execution_count": 18,
     "metadata": {},
     "output_type": "execute_result"
    }
   ],
   "source": [
    "int_arr_0[int_arr_0_is_012]"
   ]
  },
  {
   "cell_type": "code",
   "execution_count": null,
   "id": "701315dc",
   "metadata": {},
   "outputs": [],
   "source": []
  }
 ],
 "metadata": {
  "kernelspec": {
   "display_name": "Python 3 (ipykernel)",
   "language": "python",
   "name": "python3"
  },
  "language_info": {
   "codemirror_mode": {
    "name": "ipython",
    "version": 3
   },
   "file_extension": ".py",
   "mimetype": "text/x-python",
   "name": "python",
   "nbconvert_exporter": "python",
   "pygments_lexer": "ipython3",
   "version": "3.10.9"
  }
 },
 "nbformat": 4,
 "nbformat_minor": 5
}
