{
 "cells": [
  {
   "cell_type": "code",
   "execution_count": 35,
   "id": "772b458f",
   "metadata": {},
   "outputs": [],
   "source": [
    "import numpy as np"
   ]
  },
  {
   "cell_type": "code",
   "execution_count": 36,
   "id": "eb37ee49",
   "metadata": {},
   "outputs": [],
   "source": [
    "marks = [[1,2,3,4],[5,6,7,8],[9,10,11,12]]"
   ]
  },
  {
   "cell_type": "code",
   "execution_count": 37,
   "id": "863929b4",
   "metadata": {},
   "outputs": [],
   "source": [
    "marks_transpose = []\n",
    "for j in range(len(marks[0])):\n",
    "    marks_transpose.append([])\n",
    "    for i in range(len(marks)):\n",
    "        marks_transpose[j].append(marks[i][j])"
   ]
  },
  {
   "cell_type": "code",
   "execution_count": 38,
   "id": "88e7a545",
   "metadata": {},
   "outputs": [
    {
     "data": {
      "text/plain": [
       "[[1, 5, 9], [2, 6, 10], [3, 7, 11], [4, 8, 12]]"
      ]
     },
     "execution_count": 38,
     "metadata": {},
     "output_type": "execute_result"
    }
   ],
   "source": [
    "marks_transpose"
   ]
  },
  {
   "cell_type": "code",
   "execution_count": 39,
   "id": "b7a5d9fc",
   "metadata": {},
   "outputs": [],
   "source": [
    "marks_array = np.array(marks)"
   ]
  },
  {
   "cell_type": "code",
   "execution_count": 40,
   "id": "18d6bd08",
   "metadata": {},
   "outputs": [
    {
     "data": {
      "text/plain": [
       "array([[ 1,  2,  3,  4],\n",
       "       [ 5,  6,  7,  8],\n",
       "       [ 9, 10, 11, 12]])"
      ]
     },
     "execution_count": 40,
     "metadata": {},
     "output_type": "execute_result"
    }
   ],
   "source": [
    "marks_array"
   ]
  },
  {
   "cell_type": "code",
   "execution_count": 41,
   "id": "00a3056e",
   "metadata": {},
   "outputs": [
    {
     "data": {
      "text/plain": [
       "array([[ 1,  5,  9],\n",
       "       [ 2,  6, 10],\n",
       "       [ 3,  7, 11],\n",
       "       [ 4,  8, 12]])"
      ]
     },
     "execution_count": 41,
     "metadata": {},
     "output_type": "execute_result"
    }
   ],
   "source": [
    "marks_array.T"
   ]
  },
  {
   "cell_type": "code",
   "execution_count": 42,
   "id": "875b35a2",
   "metadata": {},
   "outputs": [
    {
     "data": {
      "text/plain": [
       "array([0.16666667, 0.43333333, 0.7       ])"
      ]
     },
     "execution_count": 42,
     "metadata": {},
     "output_type": "execute_result"
    }
   ],
   "source": [
    "marks_array.sum(axis = 1)/60"
   ]
  },
  {
   "cell_type": "code",
   "execution_count": 43,
   "id": "d5ef6fd9",
   "metadata": {},
   "outputs": [
    {
     "data": {
      "text/plain": [
       "array([0.25, 0.3 , 0.35, 0.4 ])"
      ]
     },
     "execution_count": 43,
     "metadata": {},
     "output_type": "execute_result"
    }
   ],
   "source": [
    "marks_array.T.sum(axis = 1)/60"
   ]
  },
  {
   "cell_type": "code",
   "execution_count": 44,
   "id": "f005bb57",
   "metadata": {},
   "outputs": [
    {
     "data": {
      "text/plain": [
       "array([[ 1,  2,  3,  4],\n",
       "       [ 5,  6,  7,  8],\n",
       "       [ 9, 10, 11, 12]])"
      ]
     },
     "execution_count": 44,
     "metadata": {},
     "output_type": "execute_result"
    }
   ],
   "source": [
    "marks_array"
   ]
  },
  {
   "cell_type": "code",
   "execution_count": 45,
   "id": "530709a6",
   "metadata": {},
   "outputs": [],
   "source": [
    "grace_marks = np.array([[1,2,3]]).T"
   ]
  },
  {
   "cell_type": "code",
   "execution_count": 46,
   "id": "d0a3289e",
   "metadata": {},
   "outputs": [
    {
     "data": {
      "text/plain": [
       "array([[ 2,  3,  4,  5],\n",
       "       [ 7,  8,  9, 10],\n",
       "       [12, 13, 14, 15]])"
      ]
     },
     "execution_count": 46,
     "metadata": {},
     "output_type": "execute_result"
    }
   ],
   "source": [
    "marks_array + grace_marks"
   ]
  },
  {
   "cell_type": "code",
   "execution_count": 47,
   "id": "c07b24a1",
   "metadata": {},
   "outputs": [
    {
     "data": {
      "text/plain": [
       "(3, 1)"
      ]
     },
     "execution_count": 47,
     "metadata": {},
     "output_type": "execute_result"
    }
   ],
   "source": [
    "grace_marks.shape"
   ]
  },
  {
   "cell_type": "code",
   "execution_count": 48,
   "id": "c348018c",
   "metadata": {},
   "outputs": [
    {
     "data": {
      "text/plain": [
       "[[1, 2, 3, 4], [5, 6, 7, 8], [9, 10, 11, 12]]"
      ]
     },
     "execution_count": 48,
     "metadata": {},
     "output_type": "execute_result"
    }
   ],
   "source": [
    "marks"
   ]
  },
  {
   "cell_type": "code",
   "execution_count": 55,
   "id": "22c84ff0",
   "metadata": {},
   "outputs": [],
   "source": [
    "weight_list = [[0.4, 0.2, 0.2, 0.2]]"
   ]
  },
  {
   "cell_type": "code",
   "execution_count": 56,
   "id": "1c812d43",
   "metadata": {},
   "outputs": [
    {
     "data": {
      "text/plain": [
       "[[0.4, 0.2, 0.2, 0.2]]"
      ]
     },
     "execution_count": 56,
     "metadata": {},
     "output_type": "execute_result"
    }
   ],
   "source": [
    "weight_list"
   ]
  },
  {
   "cell_type": "code",
   "execution_count": 57,
   "id": "3ca608ad",
   "metadata": {},
   "outputs": [],
   "source": [
    "results = []\n",
    "for i in range(len(marks)):\n",
    "    for j in range(len(weight_list)):\n",
    "        curr_sum = 0\n",
    "        for k in range(len(marks[i])):\n",
    "            curr_sum += marks[i][k]*weight_list[j][k]\n",
    "        results.append(curr_sum)"
   ]
  },
  {
   "cell_type": "code",
   "execution_count": 58,
   "id": "4468f29f",
   "metadata": {},
   "outputs": [
    {
     "data": {
      "text/plain": [
       "[2.2, 6.200000000000001, 10.2]"
      ]
     },
     "execution_count": 58,
     "metadata": {},
     "output_type": "execute_result"
    }
   ],
   "source": [
    "results"
   ]
  },
  {
   "cell_type": "code",
   "execution_count": 59,
   "id": "e8562ee4",
   "metadata": {},
   "outputs": [
    {
     "data": {
      "text/plain": [
       "array([[ 1,  2,  3,  4],\n",
       "       [ 5,  6,  7,  8],\n",
       "       [ 9, 10, 11, 12]])"
      ]
     },
     "execution_count": 59,
     "metadata": {},
     "output_type": "execute_result"
    }
   ],
   "source": [
    "marks_array"
   ]
  },
  {
   "cell_type": "code",
   "execution_count": 60,
   "id": "f8cdde99",
   "metadata": {},
   "outputs": [],
   "source": [
    "weigh_array = np.array(weigh_list)"
   ]
  },
  {
   "cell_type": "code",
   "execution_count": 62,
   "id": "815722bb",
   "metadata": {},
   "outputs": [
    {
     "data": {
      "text/plain": [
       "array([[0.4, 0.2, 0.2, 0.2]])"
      ]
     },
     "execution_count": 62,
     "metadata": {},
     "output_type": "execute_result"
    }
   ],
   "source": [
    "weigh_array.T"
   ]
  },
  {
   "cell_type": "code",
   "execution_count": 63,
   "id": "997b3f3b",
   "metadata": {},
   "outputs": [
    {
     "data": {
      "text/plain": [
       "array([[ 2.2],\n",
       "       [ 6.2],\n",
       "       [10.2]])"
      ]
     },
     "execution_count": 63,
     "metadata": {},
     "output_type": "execute_result"
    }
   ],
   "source": [
    "marks_array @ weigh_array"
   ]
  },
  {
   "cell_type": "code",
   "execution_count": 64,
   "id": "e7a8487e",
   "metadata": {},
   "outputs": [
    {
     "data": {
      "text/plain": [
       "(3, 4)"
      ]
     },
     "execution_count": 64,
     "metadata": {},
     "output_type": "execute_result"
    }
   ],
   "source": [
    "marks_array.shape"
   ]
  },
  {
   "cell_type": "code",
   "execution_count": 65,
   "id": "fc3251a7",
   "metadata": {},
   "outputs": [
    {
     "data": {
      "text/plain": [
       "(4, 1)"
      ]
     },
     "execution_count": 65,
     "metadata": {},
     "output_type": "execute_result"
    }
   ],
   "source": [
    "weigh_array.shape"
   ]
  },
  {
   "cell_type": "code",
   "execution_count": null,
   "id": "80650407",
   "metadata": {},
   "outputs": [],
   "source": []
  }
 ],
 "metadata": {
  "kernelspec": {
   "display_name": "Python 3 (ipykernel)",
   "language": "python",
   "name": "python3"
  },
  "language_info": {
   "codemirror_mode": {
    "name": "ipython",
    "version": 3
   },
   "file_extension": ".py",
   "mimetype": "text/x-python",
   "name": "python",
   "nbconvert_exporter": "python",
   "pygments_lexer": "ipython3",
   "version": "3.10.9"
  }
 },
 "nbformat": 4,
 "nbformat_minor": 5
}
