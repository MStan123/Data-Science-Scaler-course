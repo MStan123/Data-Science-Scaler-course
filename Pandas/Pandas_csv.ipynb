{
 "cells": [
  {
   "cell_type": "code",
   "execution_count": 13,
   "id": "66d279b7",
   "metadata": {},
   "outputs": [],
   "source": [
    "import pandas as pd"
   ]
  },
  {
   "cell_type": "code",
   "execution_count": 14,
   "id": "e8dac2c0",
   "metadata": {},
   "outputs": [],
   "source": [
    "countries_covid_data = pd.read_csv(\"data/countries-aggregated.csv\")"
   ]
  },
  {
   "cell_type": "code",
   "execution_count": 15,
   "id": "2dfb574d",
   "metadata": {},
   "outputs": [
    {
     "data": {
      "text/html": [
       "<div>\n",
       "<style scoped>\n",
       "    .dataframe tbody tr th:only-of-type {\n",
       "        vertical-align: middle;\n",
       "    }\n",
       "\n",
       "    .dataframe tbody tr th {\n",
       "        vertical-align: top;\n",
       "    }\n",
       "\n",
       "    .dataframe thead th {\n",
       "        text-align: right;\n",
       "    }\n",
       "</style>\n",
       "<table border=\"1\" class=\"dataframe\">\n",
       "  <thead>\n",
       "    <tr style=\"text-align: right;\">\n",
       "      <th></th>\n",
       "      <th>Date</th>\n",
       "      <th>Country</th>\n",
       "      <th>Confirmed</th>\n",
       "      <th>Recovered</th>\n",
       "      <th>Deaths</th>\n",
       "    </tr>\n",
       "  </thead>\n",
       "  <tbody>\n",
       "    <tr>\n",
       "      <th>0</th>\n",
       "      <td>2020-01-22</td>\n",
       "      <td>Afghanistan</td>\n",
       "      <td>0</td>\n",
       "      <td>0</td>\n",
       "      <td>0</td>\n",
       "    </tr>\n",
       "    <tr>\n",
       "      <th>1</th>\n",
       "      <td>2020-01-23</td>\n",
       "      <td>Afghanistan</td>\n",
       "      <td>0</td>\n",
       "      <td>0</td>\n",
       "      <td>0</td>\n",
       "    </tr>\n",
       "    <tr>\n",
       "      <th>2</th>\n",
       "      <td>2020-01-24</td>\n",
       "      <td>Afghanistan</td>\n",
       "      <td>0</td>\n",
       "      <td>0</td>\n",
       "      <td>0</td>\n",
       "    </tr>\n",
       "    <tr>\n",
       "      <th>3</th>\n",
       "      <td>2020-01-25</td>\n",
       "      <td>Afghanistan</td>\n",
       "      <td>0</td>\n",
       "      <td>0</td>\n",
       "      <td>0</td>\n",
       "    </tr>\n",
       "    <tr>\n",
       "      <th>4</th>\n",
       "      <td>2020-01-26</td>\n",
       "      <td>Afghanistan</td>\n",
       "      <td>0</td>\n",
       "      <td>0</td>\n",
       "      <td>0</td>\n",
       "    </tr>\n",
       "  </tbody>\n",
       "</table>\n",
       "</div>"
      ],
      "text/plain": [
       "         Date      Country  Confirmed  Recovered  Deaths\n",
       "0  2020-01-22  Afghanistan          0          0       0\n",
       "1  2020-01-23  Afghanistan          0          0       0\n",
       "2  2020-01-24  Afghanistan          0          0       0\n",
       "3  2020-01-25  Afghanistan          0          0       0\n",
       "4  2020-01-26  Afghanistan          0          0       0"
      ]
     },
     "execution_count": 15,
     "metadata": {},
     "output_type": "execute_result"
    }
   ],
   "source": [
    "countries_covid_data.head()"
   ]
  },
  {
   "cell_type": "code",
   "execution_count": 16,
   "id": "140f4b65",
   "metadata": {},
   "outputs": [
    {
     "data": {
      "text/html": [
       "<div>\n",
       "<style scoped>\n",
       "    .dataframe tbody tr th:only-of-type {\n",
       "        vertical-align: middle;\n",
       "    }\n",
       "\n",
       "    .dataframe tbody tr th {\n",
       "        vertical-align: top;\n",
       "    }\n",
       "\n",
       "    .dataframe thead th {\n",
       "        text-align: right;\n",
       "    }\n",
       "</style>\n",
       "<table border=\"1\" class=\"dataframe\">\n",
       "  <thead>\n",
       "    <tr style=\"text-align: right;\">\n",
       "      <th></th>\n",
       "      <th>Date</th>\n",
       "      <th>Country</th>\n",
       "      <th>Confirmed</th>\n",
       "      <th>Recovered</th>\n",
       "      <th>Deaths</th>\n",
       "    </tr>\n",
       "  </thead>\n",
       "  <tbody>\n",
       "    <tr>\n",
       "      <th>161563</th>\n",
       "      <td>2022-04-12</td>\n",
       "      <td>Zimbabwe</td>\n",
       "      <td>247094</td>\n",
       "      <td>0</td>\n",
       "      <td>5460</td>\n",
       "    </tr>\n",
       "    <tr>\n",
       "      <th>161564</th>\n",
       "      <td>2022-04-13</td>\n",
       "      <td>Zimbabwe</td>\n",
       "      <td>247160</td>\n",
       "      <td>0</td>\n",
       "      <td>5460</td>\n",
       "    </tr>\n",
       "    <tr>\n",
       "      <th>161565</th>\n",
       "      <td>2022-04-14</td>\n",
       "      <td>Zimbabwe</td>\n",
       "      <td>247208</td>\n",
       "      <td>0</td>\n",
       "      <td>5462</td>\n",
       "    </tr>\n",
       "    <tr>\n",
       "      <th>161566</th>\n",
       "      <td>2022-04-15</td>\n",
       "      <td>Zimbabwe</td>\n",
       "      <td>247237</td>\n",
       "      <td>0</td>\n",
       "      <td>5462</td>\n",
       "    </tr>\n",
       "    <tr>\n",
       "      <th>161567</th>\n",
       "      <td>2022-04-16</td>\n",
       "      <td>Zimbabwe</td>\n",
       "      <td>247237</td>\n",
       "      <td>0</td>\n",
       "      <td>5462</td>\n",
       "    </tr>\n",
       "  </tbody>\n",
       "</table>\n",
       "</div>"
      ],
      "text/plain": [
       "              Date   Country  Confirmed  Recovered  Deaths\n",
       "161563  2022-04-12  Zimbabwe     247094          0    5460\n",
       "161564  2022-04-13  Zimbabwe     247160          0    5460\n",
       "161565  2022-04-14  Zimbabwe     247208          0    5462\n",
       "161566  2022-04-15  Zimbabwe     247237          0    5462\n",
       "161567  2022-04-16  Zimbabwe     247237          0    5462"
      ]
     },
     "execution_count": 16,
     "metadata": {},
     "output_type": "execute_result"
    }
   ],
   "source": [
    "countries_covid_data.tail()"
   ]
  },
  {
   "cell_type": "code",
   "execution_count": 17,
   "id": "359fdefa",
   "metadata": {},
   "outputs": [
    {
     "name": "stdout",
     "output_type": "stream",
     "text": [
      "<class 'pandas.core.frame.DataFrame'>\n",
      "RangeIndex: 161568 entries, 0 to 161567\n",
      "Data columns (total 5 columns):\n",
      " #   Column     Non-Null Count   Dtype \n",
      "---  ------     --------------   ----- \n",
      " 0   Date       161568 non-null  object\n",
      " 1   Country    161568 non-null  object\n",
      " 2   Confirmed  161568 non-null  int64 \n",
      " 3   Recovered  161568 non-null  int64 \n",
      " 4   Deaths     161568 non-null  int64 \n",
      "dtypes: int64(3), object(2)\n",
      "memory usage: 6.2+ MB\n"
     ]
    }
   ],
   "source": [
    "countries_covid_data.info()"
   ]
  },
  {
   "cell_type": "code",
   "execution_count": 18,
   "id": "f63b432f",
   "metadata": {},
   "outputs": [],
   "source": [
    "countries_covid_data[\"Date\"] = pd.to_datetime(countries_covid_data[\"Date\"])"
   ]
  },
  {
   "cell_type": "code",
   "execution_count": 19,
   "id": "026f3e98",
   "metadata": {},
   "outputs": [
    {
     "name": "stdout",
     "output_type": "stream",
     "text": [
      "<class 'pandas.core.frame.DataFrame'>\n",
      "RangeIndex: 161568 entries, 0 to 161567\n",
      "Data columns (total 5 columns):\n",
      " #   Column     Non-Null Count   Dtype         \n",
      "---  ------     --------------   -----         \n",
      " 0   Date       161568 non-null  datetime64[ns]\n",
      " 1   Country    161568 non-null  object        \n",
      " 2   Confirmed  161568 non-null  int64         \n",
      " 3   Recovered  161568 non-null  int64         \n",
      " 4   Deaths     161568 non-null  int64         \n",
      "dtypes: datetime64[ns](1), int64(3), object(1)\n",
      "memory usage: 6.2+ MB\n"
     ]
    }
   ],
   "source": [
    "countries_covid_data.info()"
   ]
  },
  {
   "cell_type": "code",
   "execution_count": 20,
   "id": "485d024c",
   "metadata": {},
   "outputs": [
    {
     "data": {
      "text/plain": [
       "198"
      ]
     },
     "execution_count": 20,
     "metadata": {},
     "output_type": "execute_result"
    }
   ],
   "source": [
    "countries_covid_data[\"Country\"].nunique()"
   ]
  },
  {
   "cell_type": "code",
   "execution_count": 21,
   "id": "91cc76ff",
   "metadata": {},
   "outputs": [
    {
     "data": {
      "text/html": [
       "<div>\n",
       "<style scoped>\n",
       "    .dataframe tbody tr th:only-of-type {\n",
       "        vertical-align: middle;\n",
       "    }\n",
       "\n",
       "    .dataframe tbody tr th {\n",
       "        vertical-align: top;\n",
       "    }\n",
       "\n",
       "    .dataframe thead th {\n",
       "        text-align: right;\n",
       "    }\n",
       "</style>\n",
       "<table border=\"1\" class=\"dataframe\">\n",
       "  <thead>\n",
       "    <tr style=\"text-align: right;\">\n",
       "      <th></th>\n",
       "      <th>Date</th>\n",
       "      <th>Country</th>\n",
       "      <th>Confirmed</th>\n",
       "      <th>Recovered</th>\n",
       "      <th>Deaths</th>\n",
       "    </tr>\n",
       "  </thead>\n",
       "  <tbody>\n",
       "    <tr>\n",
       "      <th>161269</th>\n",
       "      <td>2021-06-22</td>\n",
       "      <td>Zimbabwe</td>\n",
       "      <td>42714</td>\n",
       "      <td>37288</td>\n",
       "      <td>1691</td>\n",
       "    </tr>\n",
       "  </tbody>\n",
       "</table>\n",
       "</div>"
      ],
      "text/plain": [
       "             Date   Country  Confirmed  Recovered  Deaths\n",
       "161269 2021-06-22  Zimbabwe      42714      37288    1691"
      ]
     },
     "execution_count": 21,
     "metadata": {},
     "output_type": "execute_result"
    }
   ],
   "source": [
    "countries_covid_data[(countries_covid_data[\"Country\"] == \"Zimbabwe\") & (countries_covid_data[\"Date\"] == \"2021-06-22\")]"
   ]
  },
  {
   "cell_type": "code",
   "execution_count": 22,
   "id": "9b7f91d5",
   "metadata": {},
   "outputs": [
    {
     "data": {
      "text/html": [
       "<div>\n",
       "<style scoped>\n",
       "    .dataframe tbody tr th:only-of-type {\n",
       "        vertical-align: middle;\n",
       "    }\n",
       "\n",
       "    .dataframe tbody tr th {\n",
       "        vertical-align: top;\n",
       "    }\n",
       "\n",
       "    .dataframe thead th {\n",
       "        text-align: right;\n",
       "    }\n",
       "</style>\n",
       "<table border=\"1\" class=\"dataframe\">\n",
       "  <thead>\n",
       "    <tr style=\"text-align: right;\">\n",
       "      <th></th>\n",
       "      <th>Date</th>\n",
       "      <th>Country</th>\n",
       "      <th>Confirmed</th>\n",
       "      <th>Recovered</th>\n",
       "      <th>Deaths</th>\n",
       "    </tr>\n",
       "  </thead>\n",
       "  <tbody>\n",
       "    <tr>\n",
       "      <th>161269</th>\n",
       "      <td>2021-06-22</td>\n",
       "      <td>Zimbabwe</td>\n",
       "      <td>42714</td>\n",
       "      <td>37288</td>\n",
       "      <td>1691</td>\n",
       "    </tr>\n",
       "  </tbody>\n",
       "</table>\n",
       "</div>"
      ],
      "text/plain": [
       "             Date   Country  Confirmed  Recovered  Deaths\n",
       "161269 2021-06-22  Zimbabwe      42714      37288    1691"
      ]
     },
     "execution_count": 22,
     "metadata": {},
     "output_type": "execute_result"
    }
   ],
   "source": [
    "countries_covid_data.query(\"(Country == 'Zimbabwe') & (Date == '2021-06-22')\")"
   ]
  },
  {
   "cell_type": "code",
   "execution_count": 23,
   "id": "a5d5c900",
   "metadata": {},
   "outputs": [
    {
     "data": {
      "text/plain": [
       "Date         2021-06-22 00:00:00\n",
       "Country                 Zimbabwe\n",
       "Confirmed                  42714\n",
       "Recovered                  37288\n",
       "Deaths                      1691\n",
       "Name: 161269, dtype: object"
      ]
     },
     "execution_count": 23,
     "metadata": {},
     "output_type": "execute_result"
    }
   ],
   "source": [
    "countries_covid_data.loc[161269]"
   ]
  },
  {
   "cell_type": "code",
   "execution_count": 24,
   "id": "2d21c30e",
   "metadata": {},
   "outputs": [
    {
     "data": {
      "text/html": [
       "<div>\n",
       "<style scoped>\n",
       "    .dataframe tbody tr th:only-of-type {\n",
       "        vertical-align: middle;\n",
       "    }\n",
       "\n",
       "    .dataframe tbody tr th {\n",
       "        vertical-align: top;\n",
       "    }\n",
       "\n",
       "    .dataframe thead th {\n",
       "        text-align: right;\n",
       "    }\n",
       "</style>\n",
       "<table border=\"1\" class=\"dataframe\">\n",
       "  <thead>\n",
       "    <tr style=\"text-align: right;\">\n",
       "      <th></th>\n",
       "      <th>Date</th>\n",
       "      <th>Country</th>\n",
       "      <th>Confirmed</th>\n",
       "      <th>Recovered</th>\n",
       "      <th>Deaths</th>\n",
       "    </tr>\n",
       "  </thead>\n",
       "  <tbody>\n",
       "    <tr>\n",
       "      <th>2</th>\n",
       "      <td>2020-01-24</td>\n",
       "      <td>Afghanistan</td>\n",
       "      <td>0</td>\n",
       "      <td>0</td>\n",
       "      <td>0</td>\n",
       "    </tr>\n",
       "    <tr>\n",
       "      <th>3</th>\n",
       "      <td>2020-01-25</td>\n",
       "      <td>Afghanistan</td>\n",
       "      <td>0</td>\n",
       "      <td>0</td>\n",
       "      <td>0</td>\n",
       "    </tr>\n",
       "    <tr>\n",
       "      <th>4</th>\n",
       "      <td>2020-01-26</td>\n",
       "      <td>Afghanistan</td>\n",
       "      <td>0</td>\n",
       "      <td>0</td>\n",
       "      <td>0</td>\n",
       "    </tr>\n",
       "  </tbody>\n",
       "</table>\n",
       "</div>"
      ],
      "text/plain": [
       "        Date      Country  Confirmed  Recovered  Deaths\n",
       "2 2020-01-24  Afghanistan          0          0       0\n",
       "3 2020-01-25  Afghanistan          0          0       0\n",
       "4 2020-01-26  Afghanistan          0          0       0"
      ]
     },
     "execution_count": 24,
     "metadata": {},
     "output_type": "execute_result"
    }
   ],
   "source": [
    "countries_covid_data.iloc[2:5]"
   ]
  },
  {
   "cell_type": "code",
   "execution_count": 25,
   "id": "307a973a",
   "metadata": {},
   "outputs": [],
   "source": [
    "countries_covid_data_country_idx = countries_covid_data.set_index(\"Country\")"
   ]
  },
  {
   "cell_type": "code",
   "execution_count": 26,
   "id": "9eb42e1f",
   "metadata": {},
   "outputs": [
    {
     "data": {
      "text/plain": [
       "Date         2021-06-22 00:00:00\n",
       "Confirmed                  42714\n",
       "Recovered                  37288\n",
       "Deaths                      1691\n",
       "Name: Zimbabwe, dtype: object"
      ]
     },
     "execution_count": 26,
     "metadata": {},
     "output_type": "execute_result"
    }
   ],
   "source": [
    "countries_covid_data_country_idx.iloc[161269]"
   ]
  },
  {
   "cell_type": "code",
   "execution_count": 27,
   "id": "3772af86",
   "metadata": {},
   "outputs": [
    {
     "data": {
      "text/plain": [
       "Date         2021-06-22 00:00:00\n",
       "Country                 Zimbabwe\n",
       "Confirmed                  42714\n",
       "Recovered                  37288\n",
       "Deaths                      1691\n",
       "Name: 161269, dtype: object"
      ]
     },
     "execution_count": 27,
     "metadata": {},
     "output_type": "execute_result"
    }
   ],
   "source": [
    "countries_covid_data.loc[161269]"
   ]
  },
  {
   "cell_type": "code",
   "execution_count": 28,
   "id": "efdc2ae6",
   "metadata": {},
   "outputs": [],
   "source": [
    "countries_covid_data_zimbabwe = countries_covid_data.query(\"(Country == 'Zimbabwe')\")"
   ]
  },
  {
   "cell_type": "code",
   "execution_count": 29,
   "id": "d68b9de3",
   "metadata": {},
   "outputs": [
    {
     "data": {
      "text/plain": [
       "Date         2020-01-23 00:00:00\n",
       "Country                 Zimbabwe\n",
       "Confirmed                      0\n",
       "Recovered                      0\n",
       "Deaths                         0\n",
       "Name: 160753, dtype: object"
      ]
     },
     "execution_count": 29,
     "metadata": {},
     "output_type": "execute_result"
    }
   ],
   "source": [
    "countries_covid_data_zimbabwe.loc[160753]"
   ]
  },
  {
   "cell_type": "code",
   "execution_count": 30,
   "id": "5cc29169",
   "metadata": {},
   "outputs": [
    {
     "data": {
      "text/plain": [
       "Date         2020-01-22 00:00:00\n",
       "Country                 Zimbabwe\n",
       "Confirmed                      0\n",
       "Recovered                      0\n",
       "Deaths                         0\n",
       "Name: 160752, dtype: object"
      ]
     },
     "execution_count": 30,
     "metadata": {},
     "output_type": "execute_result"
    }
   ],
   "source": [
    "countries_covid_data_zimbabwe.iloc[0]"
   ]
  },
  {
   "cell_type": "code",
   "execution_count": 31,
   "id": "759d5e3b",
   "metadata": {},
   "outputs": [
    {
     "data": {
      "text/html": [
       "<div>\n",
       "<style scoped>\n",
       "    .dataframe tbody tr th:only-of-type {\n",
       "        vertical-align: middle;\n",
       "    }\n",
       "\n",
       "    .dataframe tbody tr th {\n",
       "        vertical-align: top;\n",
       "    }\n",
       "\n",
       "    .dataframe thead th {\n",
       "        text-align: right;\n",
       "    }\n",
       "</style>\n",
       "<table border=\"1\" class=\"dataframe\">\n",
       "  <thead>\n",
       "    <tr style=\"text-align: right;\">\n",
       "      <th></th>\n",
       "      <th>Date</th>\n",
       "      <th>Country</th>\n",
       "      <th>Confirmed</th>\n",
       "      <th>Recovered</th>\n",
       "      <th>Deaths</th>\n",
       "    </tr>\n",
       "  </thead>\n",
       "  <tbody>\n",
       "    <tr>\n",
       "      <th>161269</th>\n",
       "      <td>2021-06-22</td>\n",
       "      <td>Zimbabwe</td>\n",
       "      <td>42714</td>\n",
       "      <td>37288</td>\n",
       "      <td>1691</td>\n",
       "    </tr>\n",
       "  </tbody>\n",
       "</table>\n",
       "</div>"
      ],
      "text/plain": [
       "             Date   Country  Confirmed  Recovered  Deaths\n",
       "161269 2021-06-22  Zimbabwe      42714      37288    1691"
      ]
     },
     "execution_count": 31,
     "metadata": {},
     "output_type": "execute_result"
    }
   ],
   "source": [
    "countries_covid_data[(countries_covid_data[\"Country\"] == 'Zimbabwe') & (countries_covid_data[\"Date\"] == '2021-06-22')]"
   ]
  },
  {
   "cell_type": "code",
   "execution_count": 34,
   "id": "6a040e75",
   "metadata": {},
   "outputs": [
    {
     "data": {
      "text/html": [
       "<div>\n",
       "<style scoped>\n",
       "    .dataframe tbody tr th:only-of-type {\n",
       "        vertical-align: middle;\n",
       "    }\n",
       "\n",
       "    .dataframe tbody tr th {\n",
       "        vertical-align: top;\n",
       "    }\n",
       "\n",
       "    .dataframe thead th {\n",
       "        text-align: right;\n",
       "    }\n",
       "</style>\n",
       "<table border=\"1\" class=\"dataframe\">\n",
       "  <thead>\n",
       "    <tr style=\"text-align: right;\">\n",
       "      <th></th>\n",
       "      <th>Date</th>\n",
       "      <th>Country</th>\n",
       "      <th>Confirmed</th>\n",
       "      <th>Recovered</th>\n",
       "      <th>Deaths</th>\n",
       "    </tr>\n",
       "  </thead>\n",
       "  <tbody>\n",
       "    <tr>\n",
       "      <th>161269</th>\n",
       "      <td>2021-06-22</td>\n",
       "      <td>Zimbabwe</td>\n",
       "      <td>42714</td>\n",
       "      <td>37288</td>\n",
       "      <td>1691</td>\n",
       "    </tr>\n",
       "  </tbody>\n",
       "</table>\n",
       "</div>"
      ],
      "text/plain": [
       "             Date   Country  Confirmed  Recovered  Deaths\n",
       "161269 2021-06-22  Zimbabwe      42714      37288    1691"
      ]
     },
     "execution_count": 34,
     "metadata": {},
     "output_type": "execute_result"
    }
   ],
   "source": [
    "countries_covid_data.query(\"(Country == 'Zimbabwe') & (Date == '2021-06-22')\")"
   ]
  },
  {
   "cell_type": "code",
   "execution_count": null,
   "id": "a0bb44c7",
   "metadata": {},
   "outputs": [],
   "source": []
  }
 ],
 "metadata": {
  "kernelspec": {
   "display_name": "Python 3 (ipykernel)",
   "language": "python",
   "name": "python3"
  },
  "language_info": {
   "codemirror_mode": {
    "name": "ipython",
    "version": 3
   },
   "file_extension": ".py",
   "mimetype": "text/x-python",
   "name": "python",
   "nbconvert_exporter": "python",
   "pygments_lexer": "ipython3",
   "version": "3.10.9"
  }
 },
 "nbformat": 4,
 "nbformat_minor": 5
}
